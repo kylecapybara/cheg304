{
 "cells": [
  {
   "cell_type": "markdown",
   "metadata": {},
   "source": [
    "---\n",
    "title: cheg304 hw6 q3\n",
    "author: author\n",
    "date: today\n",
    "format:\n",
    "    html:\n",
    "        self-contained: true\n",
    "---"
   ]
  },
  {
   "cell_type": "markdown",
   "metadata": {},
   "source": [
    "# (a)\n",
    "\n",
    "starting with our kinda definition of t\n",
    "\n",
    "$$\n",
    "t = \\frac{\\bar{x} - \\mu}{\\sigma / \\sqrt{n}}\n",
    "$$\n",
    "\n",
    "then if we rearrange slightly\n",
    "\n",
    "$$\n",
    "\\bar{x} - \\mu = t \\frac{\\sigma}{\\sqrt{n}}\n",
    "$$\n",
    "\n",
    "now the problem we need to solve is \n",
    "\n",
    "$$\n",
    "1 = t(\\nu = n-1) \\frac{9}{\\sqrt{n}}\n",
    "$$\n",
    "\n",
    "which could be done numerically or graphically or with mathematica or excel solver or like 30 other ways"
   ]
  },
  {
   "cell_type": "code",
   "execution_count": 2,
   "metadata": {},
   "outputs": [
    {
     "name": "stdout",
     "output_type": "stream",
     "text": [
      "n: 314\n"
     ]
    }
   ],
   "source": [
    "from scipy.optimize import fsolve\n",
    "from scipy.stats import t\n",
    "import numpy as np\n",
    "\n",
    "alpha = 0.05\n",
    "sigma = 9\n",
    "\n",
    "def func(n):\n",
    "    return 1 - t.ppf(1-alpha/2, n-1) * sigma / np.sqrt(n)\n",
    "\n",
    "n = np.round(fsolve(func, 10)[0])\n",
    "print(f'n: {n:.0f}')"
   ]
  },
  {
   "cell_type": "markdown",
   "metadata": {},
   "source": [
    "# (b)\n",
    "\n",
    "we absoltely must assume the underlying distribution is normal to continue our analysis. from there, we can rearrange our $C$ thingy that follows the $\\chi^2$ distribution\n",
    "\n",
    "$$\n",
    "C = \\frac{(n-1) S^2 }{\\sigma^2}\n",
    "$$\n",
    "\n",
    "which becomes\n",
    "\n",
    "$$\n",
    "\\sigma^2 = \\frac{(n-1) S^2 }{C}\n",
    "$$\n",
    "\n",
    "and sadly the $\\chi^2$ distribution is asymmetric so our confidence inteval will be as follows \n",
    "\n",
    "$$\n",
    "\\biggl[ \\frac{(n-1) S^2}{\\chi^2 (\\alpha/2)}, \\frac{(n-1) S^2}{\\chi^2 (1 - \\alpha/2)} \\biggr]\n",
    "$$\n",
    "\n",
    "where $\\nu = n-1 = 313$ (also, for scipy its backwards since it integrates from 0-x)\n"
   ]
  },
  {
   "cell_type": "code",
   "execution_count": null,
   "metadata": {},
   "outputs": [
    {
     "name": "stdout",
     "output_type": "stream",
     "text": [
      "[363.9042602  265.88260701]\n",
      "interval for variance: (69.7, 95.4)\n"
     ]
    }
   ],
   "source": [
    "from scipy.stats import chi2\n",
    "\n",
    "alpha = 0.05\n",
    "inputs = np.array([1-alpha/2, alpha/2])\n",
    "chi = chi2.ppf(inputs, n-1)\n",
    "\n",
    "ci = (n-1) * (sigma**2) / (chi)\n",
    "ci = tuple(np.round(ci, 1))\n",
    "print(f'interval for variance: {ci}')"
   ]
  },
  {
   "cell_type": "code",
   "execution_count": 4,
   "metadata": {},
   "outputs": [],
   "source": [
    "# filler"
   ]
  }
 ],
 "metadata": {
  "kernelspec": {
   "display_name": "base",
   "language": "python",
   "name": "python3"
  },
  "language_info": {
   "codemirror_mode": {
    "name": "ipython",
    "version": 3
   },
   "file_extension": ".py",
   "mimetype": "text/x-python",
   "name": "python",
   "nbconvert_exporter": "python",
   "pygments_lexer": "ipython3",
   "version": "3.11.5"
  }
 },
 "nbformat": 4,
 "nbformat_minor": 2
}
