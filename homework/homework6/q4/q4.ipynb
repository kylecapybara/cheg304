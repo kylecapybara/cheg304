{
 "cells": [
  {
   "cell_type": "markdown",
   "metadata": {},
   "source": [
    "---\n",
    "title: cheg304 hw6 q4\n",
    "author: author\n",
    "date: today\n",
    "format:\n",
    "    html:\n",
    "        self-contained: true\n",
    "---"
   ]
  },
  {
   "cell_type": "markdown",
   "metadata": {},
   "source": [
    "# (a)\n",
    "\n",
    "- state an appropriate null and alternative hypothesis, both in words and as mathematical expressions\n",
    "- then explain what the practical implication of the test would be for both the case that (i) you fail to reject the null hypothesis and (ii) you reject the null hypothesis, to show that your choice of hypotheses is “actionable.”"
   ]
  },
  {
   "cell_type": "markdown",
   "metadata": {},
   "source": [
    "\n",
    "> When it is operating correctly, the mean amount of corrosion within a certain valve over the\n",
    "course of a year must be less than 675 um. How can we tell if the valve is operating\n",
    "correctly?"
   ]
  },
  {
   "cell_type": "markdown",
   "metadata": {},
   "source": [
    "null hypothesis: the valve is operating correctly\n",
    "\n",
    "\n",
    "alternative hypothesis: the valve is not operating correctly\n",
    "\n",
    "null hypothesis (math): \n",
    "\n",
    "$$\n",
    "\\bar{x} \\leq 675\\,\\text{µm}\n",
    "$$\n",
    "\n",
    "alternative hypothesis (math)\n",
    "\n",
    "$$\n",
    "\\bar{x} > 675\\,\\text{µm}\n",
    "$$\n",
    "\n",
    "(i)\n",
    "\n",
    "the practical implication for failing to reject the null is to leave the valve untouched. there isn't strong evidence that it's operating incorrectly, so it should be left as is until the next check.\n",
    "\n",
    "(ii)\n",
    "\n",
    "for rejecting the null you conclude there is too much corrosion and the valve is not operating correctly. the valve likely needs replaced or something with the fluid flowing through the valve is not up to specification."
   ]
  },
  {
   "cell_type": "markdown",
   "metadata": {},
   "source": [
    "# (b)"
   ]
  },
  {
   "cell_type": "markdown",
   "metadata": {},
   "source": [
    "> A certain type of stainless steel powder should have a mean particle diameter of 1.5 μm, or\n",
    "else the process is “off-specification.” How can we tell if the process is off-specification?"
   ]
  },
  {
   "cell_type": "markdown",
   "metadata": {},
   "source": [
    "null hypothesis in english: the process is on specification; the mean is 1.5\n",
    "\n",
    "alternative hypothesis in english: the process is off-specification; mean is not 1.5\n",
    "\n",
    "null in math\n",
    "\n",
    "$$\n",
    "\\bar{x} = 1.5\\,\\text{µm}\n",
    "$$\n",
    "\n",
    "alternative in math \n",
    "\n",
    "$$\n",
    "\\bar{x} \\neq 1.5\\,\\text{µm}\n",
    "$$\n",
    "\n",
    "(i)\n",
    "\n",
    "if you fail to reject the null you say okay the process is up to spec and take no action other than continuing to run the process and keep feeding your company money.\n",
    "\n",
    "(ii)\n",
    "\n",
    "if you reject the null, you stop the process since it is running off-specification. you might need to replace machinery or inspect raw materials. "
   ]
  },
  {
   "cell_type": "code",
   "execution_count": null,
   "metadata": {},
   "outputs": [],
   "source": [
    "# filler"
   ]
  }
 ],
 "metadata": {
  "kernelspec": {
   "display_name": "base",
   "language": "python",
   "name": "python3"
  },
  "language_info": {
   "name": "python",
   "version": "3.11.5"
  }
 },
 "nbformat": 4,
 "nbformat_minor": 2
}
