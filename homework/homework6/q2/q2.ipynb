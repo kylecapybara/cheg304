{
 "cells": [
  {
   "cell_type": "markdown",
   "metadata": {},
   "source": [
    "---\n",
    "title: cheg304 hw6 q2\n",
    "author: author\n",
    "date: today\n",
    "format:\n",
    "    html:\n",
    "        self-contained: true\n",
    "---"
   ]
  },
  {
   "cell_type": "markdown",
   "metadata": {},
   "source": [
    "# (2)\n",
    "\n",
    "since our population variance is unknown, we should use the t-distribution. specifically, we want the t value where $\\nu = 63$ for both 95% and 99%. then we can go back to our definition of t\n",
    "\n",
    "$$\n",
    "t = \\frac{\\bar{x} - \\mu}{\\sigma / \\sqrt{n}}\n",
    "$$\n",
    "\n",
    "then if we rearrange slightly\n",
    "\n",
    "$$\n",
    "\\bar{x} - \\mu = t \\frac{\\sigma}{\\sqrt{n}}\n",
    "$$\n",
    "\n",
    "now we can answer the question (in code of course!!!!)\n",
    "\n",
    " - note that scipy inverse cdfs default to being from the left and single tail. \n",
    " - this is easy since t-distribution is symmetric"
   ]
  },
  {
   "cell_type": "code",
   "execution_count": 6,
   "metadata": {},
   "outputs": [
    {
     "name": "stdout",
     "output_type": "stream",
     "text": [
      "95% CI: [175.0025 180.9975]\n",
      "99% CI: [174.0158 181.9842]\n"
     ]
    }
   ],
   "source": [
    "from scipy.stats import t\n",
    "import numpy as np\n",
    "\n",
    "mu = 178.0\n",
    "sigma = 12.0\n",
    "n = 64\n",
    "nu = n-1\n",
    "\n",
    "alpha = 0.05\n",
    "x_mu = t.ppf(1 - alpha/2, nu) * sigma / np.sqrt(n)\n",
    "ci_95 = (mu - x_mu, mu + x_mu)\n",
    "print(f'95% CI: {np.round(ci_95, 4)}')\n",
    "\n",
    "alpha = 0.01\n",
    "x_mu = t.ppf(1 - alpha/2, nu) * sigma / np.sqrt(n)\n",
    "ci_99 = (mu - x_mu, mu + x_mu)\n",
    "print(f'99% CI: {np.round(ci_99, 4)}')"
   ]
  },
  {
   "cell_type": "markdown",
   "metadata": {},
   "source": [
    "# (b)"
   ]
  },
  {
   "cell_type": "markdown",
   "metadata": {},
   "source": [
    "for this part we very quickly see that $\\bar{x} - \\mu = 2$, so\n",
    "\n",
    "$$\n",
    "2 = t \\frac{12}{\\sqrt{64}}\n",
    "$$\n",
    "\n",
    "$$\n",
    "t (\\nu = 63) = \\frac{4}{3}\n",
    "$$\n",
    "\n",
    "now we just take our integral of the t-distribution pdf from $-\\frac{4}{3}$ to $\\frac{4}{3}$ and that will be our answer"
   ]
  },
  {
   "cell_type": "code",
   "execution_count": 7,
   "metadata": {},
   "outputs": [
    {
     "name": "stdout",
     "output_type": "stream",
     "text": [
      "level of confidence: 81.3%\n"
     ]
    }
   ],
   "source": [
    "integral = t.cdf(4/3, 63) - t.cdf(-4/3, 63)\n",
    "print(f'level of confidence: {integral:.1%}')"
   ]
  },
  {
   "cell_type": "markdown",
   "metadata": {},
   "source": [
    "we can also quickly check this by generating the confidence interval for this level of confidence"
   ]
  },
  {
   "cell_type": "code",
   "execution_count": 8,
   "metadata": {},
   "outputs": [
    {
     "name": "stdout",
     "output_type": "stream",
     "text": [
      "81.3% CI: [176. 180.]\n"
     ]
    }
   ],
   "source": [
    "alpha = 1 - integral\n",
    "x_mu = t.ppf(1 - alpha/2, nu) * sigma / np.sqrt(n)\n",
    "ci_99 = (mu - x_mu, mu + x_mu)\n",
    "print(f'{integral:.1%} CI: {np.round(ci_99, 1)}')"
   ]
  },
  {
   "cell_type": "code",
   "execution_count": 9,
   "metadata": {},
   "outputs": [],
   "source": [
    "# filler text"
   ]
  }
 ],
 "metadata": {
  "kernelspec": {
   "display_name": "base",
   "language": "python",
   "name": "python3"
  },
  "language_info": {
   "codemirror_mode": {
    "name": "ipython",
    "version": 3
   },
   "file_extension": ".py",
   "mimetype": "text/x-python",
   "name": "python",
   "nbconvert_exporter": "python",
   "pygments_lexer": "ipython3",
   "version": "3.11.5"
  }
 },
 "nbformat": 4,
 "nbformat_minor": 2
}
