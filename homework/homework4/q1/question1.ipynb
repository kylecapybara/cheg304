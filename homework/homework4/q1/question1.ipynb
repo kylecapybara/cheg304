{
 "cells": [
  {
   "cell_type": "markdown",
   "metadata": {},
   "source": [
    "---\n",
    "title: cheg304 homework4 question1\n",
    "author: udid 702687390\n",
    "date: today\n",
    "format:\n",
    "    html:\n",
    "        self-contained: true\n",
    "---"
   ]
  },
  {
   "cell_type": "code",
   "execution_count": 13,
   "metadata": {},
   "outputs": [
    {
     "data": {
      "text/html": [
       "<div>\n",
       "<style scoped>\n",
       "    .dataframe tbody tr th:only-of-type {\n",
       "        vertical-align: middle;\n",
       "    }\n",
       "\n",
       "    .dataframe tbody tr th {\n",
       "        vertical-align: top;\n",
       "    }\n",
       "\n",
       "    .dataframe thead th {\n",
       "        text-align: right;\n",
       "    }\n",
       "</style>\n",
       "<table border=\"1\" class=\"dataframe\">\n",
       "  <thead>\n",
       "    <tr style=\"text-align: right;\">\n",
       "      <th></th>\n",
       "      <th>Number of Employees</th>\n",
       "    </tr>\n",
       "    <tr>\n",
       "      <th>Number of Accidents</th>\n",
       "      <th></th>\n",
       "    </tr>\n",
       "  </thead>\n",
       "  <tbody>\n",
       "    <tr>\n",
       "      <th>0</th>\n",
       "      <td>447</td>\n",
       "    </tr>\n",
       "    <tr>\n",
       "      <th>1</th>\n",
       "      <td>132</td>\n",
       "    </tr>\n",
       "    <tr>\n",
       "      <th>2</th>\n",
       "      <td>42</td>\n",
       "    </tr>\n",
       "    <tr>\n",
       "      <th>3</th>\n",
       "      <td>21</td>\n",
       "    </tr>\n",
       "    <tr>\n",
       "      <th>4</th>\n",
       "      <td>5</td>\n",
       "    </tr>\n",
       "  </tbody>\n",
       "</table>\n",
       "</div>"
      ],
      "text/plain": [
       "                     Number of Employees\n",
       "Number of Accidents                     \n",
       "0                                    447\n",
       "1                                    132\n",
       "2                                     42\n",
       "3                                     21\n",
       "4                                      5"
      ]
     },
     "execution_count": 13,
     "metadata": {},
     "output_type": "execute_result"
    }
   ],
   "source": [
    "import matplotlib.pyplot as plt\n",
    "import numpy as np\n",
    "import pandas as pd\n",
    "from scipy.special import factorial\n",
    "\n",
    "df = pd.read_csv('question1_data.txt', sep=',', index_col=1)\n",
    "df"
   ]
  },
  {
   "cell_type": "markdown",
   "metadata": {},
   "source": [
    "computing the mean and variance"
   ]
  },
  {
   "cell_type": "code",
   "execution_count": 14,
   "metadata": {},
   "outputs": [
    {
     "name": "stdout",
     "output_type": "stream",
     "text": [
      "mean: 0.462 incidents\n",
      "variance: 0.667 incidents^2\n"
     ]
    }
   ],
   "source": [
    "mean = np.dot(df.index, df['Number of Employees']) / np.sum(df['Number of Employees'])\n",
    "print(f'mean: {mean:.3f} incidents')\n",
    "\n",
    "variance = np.dot((df.index - mean)**2, df['Number of Employees']) / (np.sum(df['Number of Employees']) - 1)\n",
    "print(f'variance: {variance:.3f} incidents^2')"
   ]
  },
  {
   "cell_type": "markdown",
   "metadata": {},
   "source": [
    "for the poisson, $\\lambda$ should be the EV (mean) of the distribution"
   ]
  },
  {
   "cell_type": "markdown",
   "metadata": {},
   "source": [
    "for the negative binomial we know the mean is\n",
    "$$\n",
    "\\mu = \\frac{k(1-p)}{p}\n",
    "$$\n",
    "and the variance is\n",
    "$$\n",
    "\\sigma^2 = \\frac{k(1-p)}{p^2}\n",
    "$$\n",
    "and now, since we calcualted the mean and the variance, we have 2 equations with 2 unknowns. this yields\n",
    "$$\n",
    "k = \\frac{\\mu^2}{\\sigma^2 - \\mu} \\hspace{2em} p = \\frac{\\mu}{\\sigma^2}\n",
    "$$"
   ]
  },
  {
   "cell_type": "code",
   "execution_count": 15,
   "metadata": {},
   "outputs": [
    {
     "name": "stdout",
     "output_type": "stream",
     "text": [
      "k: 1.043\n",
      "p: 0.693\n",
      "k (rounded to int): 1\n"
     ]
    }
   ],
   "source": [
    "k = (mean**2)/(variance - mean)\n",
    "print(f'k: {k:.3f}')\n",
    "\n",
    "p = (mean/variance)\n",
    "print(f'p: {p:.3f}')\n",
    "\n",
    "k = np.round(k)\n",
    "print(f'k (rounded to int): {k:.0f}')"
   ]
  },
  {
   "cell_type": "markdown",
   "metadata": {},
   "source": [
    "and now computing the respective $\\chi^2$"
   ]
  },
  {
   "cell_type": "code",
   "execution_count": 16,
   "metadata": {},
   "outputs": [
    {
     "name": "stdout",
     "output_type": "stream",
     "text": [
      "poisson predictions\n",
      " [408. 188.  44.   7.   1.]\n",
      "negative binom predictions\n",
      " [448. 138.  42.  13.   4.]\n",
      "\n",
      " ----- chi squared stuffs ----- \n",
      "\n",
      "chi squared for poisson: 74.26\n",
      "chi squared for negative binomial: 5.45\n"
     ]
    }
   ],
   "source": [
    "def poisson(x, lambd):\n",
    "    return (lambd**x) * np.exp(-lambd) / factorial(x)\n",
    "\n",
    "def choose(top: int, bottom: int):\n",
    "    return factorial(top) / (factorial(bottom) * factorial(top-bottom))\n",
    "\n",
    "def negative_binom(x, k, p):\n",
    "    return choose(x+k-1, k-1) * (p**k) * ((1-p)**x)\n",
    "\n",
    "n = np.sum(df['Number of Employees'])\n",
    "\n",
    "poisson_predictions = poisson(np.array(df.index), mean) * n\n",
    "print('poisson predictions\\n',np.round(poisson_predictions,0))\n",
    "\n",
    "nb_predictions = negative_binom(np.array(df.index), k, p) * n\n",
    "print('negative binom predictions\\n',np.round(nb_predictions,0))\n",
    "\n",
    "print('\\n ----- chi squared stuffs ----- \\n')\n",
    "chi_poisson = np.sum((df['Number of Employees'] - poisson_predictions)**2 / poisson_predictions)\n",
    "print(f'chi squared for poisson: {chi_poisson:.2f}')\n",
    "\n",
    "chi_nb = np.sum((df['Number of Employees'] - nb_predictions)**2 / nb_predictions)\n",
    "print(f'chi squared for negative binomial: {chi_nb:.2f}')"
   ]
  },
  {
   "cell_type": "markdown",
   "metadata": {},
   "source": [
    "the negative binomial has a much smaller $\\chi^2$ value. this lines up well with the theory since our poisson distribution has one value for mean and variance, but the mean and the variance of the historical data were not the same, so it makes sense that a distribution with 2 parameters describing it captures this extra information."
   ]
  },
  {
   "cell_type": "code",
   "execution_count": 17,
   "metadata": {},
   "outputs": [],
   "source": [
    "# this is filler text"
   ]
  }
 ],
 "metadata": {
  "kernelspec": {
   "display_name": "base",
   "language": "python",
   "name": "python3"
  },
  "language_info": {
   "codemirror_mode": {
    "name": "ipython",
    "version": 3
   },
   "file_extension": ".py",
   "mimetype": "text/x-python",
   "name": "python",
   "nbconvert_exporter": "python",
   "pygments_lexer": "ipython3",
   "version": "3.12.3"
  }
 },
 "nbformat": 4,
 "nbformat_minor": 2
}
