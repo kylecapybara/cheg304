{
 "cells": [
  {
   "cell_type": "markdown",
   "metadata": {},
   "source": [
    "---\n",
    "title: cheg304 homework4 question3\n",
    "author: udid 702687390\n",
    "date: today\n",
    "format:\n",
    "    html:\n",
    "        self-contained: true\n",
    "---"
   ]
  },
  {
   "cell_type": "markdown",
   "metadata": {},
   "source": [
    "The pdf for our exponential random variable is\n",
    "$$ f(x) = \\frac{1}{\\beta} \\exp \\left(\\frac{-x}{\\beta}\\right) $$\n",
    "\n",
    "so the statement that there's a 60% chance that there are more than 30 days between tornado warnings looks like this in math\n",
    "$$ \\int_{30}^{\\infty} f(x) \\ dx = 0.60 $$\n",
    "\n",
    "and this integral may be used to get our value of $\\beta$\n",
    "\n",
    "\\begin{align*}\n",
    "     \\int_{30}^{\\infty} f(x) \\ dx &= \\int_{30}^{\\infty} \\frac{1}{\\beta} \\exp \\left(\\frac{-x}{\\beta}\\right) \\ dx \\\\\n",
    "     &= \\biggl[ -\\exp \\left( \\frac{-x}{\\beta} \\right) \\biggr]_{30}^{\\infty} \\\\\n",
    "     &= \\biggl[ \\exp \\left( \\frac{-x}{\\beta} \\right) \\biggr]_{\\infty}^{30} \\\\\n",
    "     &= \\exp\\left( \\frac{-30}{\\beta} \\right)\n",
    "\\end{align*}\n",
    "\n",
    "\\begin{align*}\n",
    "     0.60 &= \\exp\\left( \\frac{-30}{\\beta} \\right) \\\\\n",
    "     \\ln (0.60) &= \\frac{-30}{\\beta} \\\\\n",
    "     \\beta &= \\frac{-30}{\\ln(0.60)}\n",
    "\\end{align*}\n",
    "\n",
    "as per our textbook, $\\beta$ is the expected value of this distribution."
   ]
  },
  {
   "cell_type": "code",
   "execution_count": 9,
   "metadata": {},
   "outputs": [
    {
     "name": "stdout",
     "output_type": "stream",
     "text": [
      "beta: 58.73\n"
     ]
    }
   ],
   "source": [
    "import numpy as np\n",
    "beta = -30 / np.log(.60)\n",
    "print(f'beta: {beta:.2f}')"
   ]
  },
  {
   "cell_type": "markdown",
   "metadata": {},
   "source": [
    "now since $\\beta$ is our expected number of days between events, if we just convert $\\beta$ into years and evaluate $\\displaystyle\\frac{1}{\\beta}$ our result will have the units of events per year"
   ]
  },
  {
   "cell_type": "code",
   "execution_count": 10,
   "metadata": {},
   "outputs": [
    {
     "name": "stdout",
     "output_type": "stream",
     "text": [
      "expected events per year: 6.22\n"
     ]
    }
   ],
   "source": [
    "beta /= 365\n",
    "inv_beta = 1/beta\n",
    "print(f'expected events per year: {inv_beta:.2f}')"
   ]
  }
 ],
 "metadata": {
  "kernelspec": {
   "display_name": "base",
   "language": "python",
   "name": "python3"
  },
  "language_info": {
   "codemirror_mode": {
    "name": "ipython",
    "version": 3
   },
   "file_extension": ".py",
   "mimetype": "text/x-python",
   "name": "python",
   "nbconvert_exporter": "python",
   "pygments_lexer": "ipython3",
   "version": "3.12.3"
  }
 },
 "nbformat": 4,
 "nbformat_minor": 2
}
