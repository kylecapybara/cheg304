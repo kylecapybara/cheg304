{
 "cells": [
  {
   "cell_type": "markdown",
   "metadata": {},
   "source": [
    "---\n",
    "title: cheg304 hw7 q1\n",
    "author: author\n",
    "date: today\n",
    "format:\n",
    "    html:\n",
    "        self-contained: true\n",
    "---"
   ]
  },
  {
   "cell_type": "markdown",
   "metadata": {},
   "source": [
    "# a\n",
    "\n",
    "### part 1\n",
    "here our hypotheses are the following\n",
    "\n",
    "- null: the average height is 1.0 meters\n",
    "- alternative the average height is not 1.0 meters\n",
    "\n",
    "in math, where $\\mu$ is the true average height\n",
    "\n",
    "$$\n",
    "H_0: \\ \\mu = 1.0\\,\\text{m}\n",
    "$$\n",
    "\n",
    "$$\n",
    "H_a: \\ \\mu \\neq 1.0\\,\\text{m}\n",
    "$$\n",
    "\n",
    "### part 2\n",
    "\n",
    "we need to compute the sample mean and standard deviation"
   ]
  },
  {
   "cell_type": "code",
   "execution_count": 36,
   "metadata": {},
   "outputs": [
    {
     "name": "stdout",
     "output_type": "stream",
     "text": [
      "sample mean: 0.960\n",
      "sample std: 0.100\n"
     ]
    }
   ],
   "source": [
    "import numpy as np\n",
    "from scipy.stats import t, norm\n",
    "\n",
    "data = \"0.937 0.886 1.149 0.957 0.915 0.910 1.026 0.987 0.782 1.047\"\n",
    "data = data.split(' ')\n",
    "data = np.array(data).astype(float)\n",
    "\n",
    "print(f'sample mean: {data.mean():.3f}')\n",
    "print(f'sample std: {data.std(ddof=1):.3f}')"
   ]
  },
  {
   "cell_type": "markdown",
   "metadata": {},
   "source": [
    "now since enszer directly said that the underlying distribution is normally distributed but we don't know the population standard deviation, we can use the t distribution\n",
    "\n",
    "$$\n",
    "t = \\frac{\\bar{x} - \\mu}{\\sigma_{\\bar{x}}} = \\frac{\\bar{x} - \\mu}{s/\\sqrt{N}}\n",
    "$$"
   ]
  },
  {
   "cell_type": "code",
   "execution_count": 37,
   "metadata": {},
   "outputs": [
    {
     "name": "stdout",
     "output_type": "stream",
     "text": [
      "t statistic: -1.273\n"
     ]
    }
   ],
   "source": [
    "t_ = (data.mean() - 1.0) / (data.std(ddof=1) / np.sqrt(len(data)))\n",
    "print(f't statistic: {t_:.3f}')"
   ]
  },
  {
   "cell_type": "markdown",
   "metadata": {},
   "source": [
    "now we can also calculate the p value associated with this z statistic"
   ]
  },
  {
   "cell_type": "code",
   "execution_count": 38,
   "metadata": {},
   "outputs": [
    {
     "name": "stdout",
     "output_type": "stream",
     "text": [
      "p: 0.117\n"
     ]
    }
   ],
   "source": [
    "p = t.cdf(t_, len(data) - 1)\n",
    "print(f'p: {p:.3f}')"
   ]
  },
  {
   "cell_type": "markdown",
   "metadata": {},
   "source": [
    "### part 3\n",
    "\n",
    "when we compare $p$ and $\\alpha/2$ we see that $p > \\alpha/2$. this means we fail to reject the null. \n",
    "\n",
    "### part 4\n",
    "\n",
    "we fail to reject the null and conclude that the true mean height in the tank could be 1.0 meters"
   ]
  },
  {
   "cell_type": "markdown",
   "metadata": {},
   "source": [
    "# b\n",
    "\n",
    "### part 1\n",
    "here our hypotheses are the following\n",
    "\n",
    "- null: the average height is 1.0 meters\n",
    "- alternative the average height is not 1.0 meters\n",
    "\n",
    "in math, where $\\mu$ is the true average height\n",
    "\n",
    "$$\n",
    "H_0: \\ \\mu = 1.0\\,\\text{m}\n",
    "$$\n",
    "\n",
    "$$\n",
    "H_a: \\ \\mu \\neq 1.0\\,\\text{m}\n",
    "$$\n",
    "\n",
    "these are the same as (a)\n",
    "\n",
    "### part 2\n",
    "\n",
    "we need to compute the sample mean, but don't care about the sample standard deviation"
   ]
  },
  {
   "cell_type": "code",
   "execution_count": 39,
   "metadata": {},
   "outputs": [
    {
     "name": "stdout",
     "output_type": "stream",
     "text": [
      "sample mean: 0.960\n"
     ]
    }
   ],
   "source": [
    "print(f'sample mean: {data.mean():.3f}')"
   ]
  },
  {
   "cell_type": "markdown",
   "metadata": {},
   "source": [
    "since we somehow know the population standard deviation, we know the sample means follow the normal distribution\n",
    "\n",
    "$$\n",
    "z = \\frac{\\bar{x} - \\mu}{\\sigma_{\\bar{x}}} = \\frac{\\bar{x} - \\mu}{\\sigma/\\sqrt{N}}\n",
    "$$"
   ]
  },
  {
   "cell_type": "code",
   "execution_count": 40,
   "metadata": {},
   "outputs": [
    {
     "name": "stdout",
     "output_type": "stream",
     "text": [
      "z statistic: -1.278\n"
     ]
    }
   ],
   "source": [
    "z = (data.mean() - 1.0) / (0.1 / np.sqrt(len(data)))\n",
    "print(f'z statistic: {z:.3f}')"
   ]
  },
  {
   "cell_type": "markdown",
   "metadata": {},
   "source": [
    "we can again calculate $p$"
   ]
  },
  {
   "cell_type": "code",
   "execution_count": 41,
   "metadata": {},
   "outputs": [
    {
     "name": "stdout",
     "output_type": "stream",
     "text": [
      "p: 0.101\n"
     ]
    }
   ],
   "source": [
    "p = norm.cdf(z)\n",
    "print(f'p: {p:.3f}')"
   ]
  },
  {
   "cell_type": "markdown",
   "metadata": {},
   "source": [
    "### part 3\n",
    "\n",
    "when we compare $p$ and $\\alpha/2$ we see that $p > \\alpha/2$. this means we fail to reject the null. \n",
    "\n",
    "### part 4\n",
    "\n",
    "we fail to reject the null and conclude that the true mean height in the tank could be 1.0 meters"
   ]
  },
  {
   "cell_type": "code",
   "execution_count": 42,
   "metadata": {},
   "outputs": [],
   "source": [
    "# filler"
   ]
  }
 ],
 "metadata": {
  "kernelspec": {
   "display_name": "base",
   "language": "python",
   "name": "python3"
  },
  "language_info": {
   "codemirror_mode": {
    "name": "ipython",
    "version": 3
   },
   "file_extension": ".py",
   "mimetype": "text/x-python",
   "name": "python",
   "nbconvert_exporter": "python",
   "pygments_lexer": "ipython3",
   "version": "3.11.8"
  }
 },
 "nbformat": 4,
 "nbformat_minor": 2
}
