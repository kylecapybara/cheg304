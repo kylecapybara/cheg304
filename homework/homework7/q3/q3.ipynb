{
 "cells": [
  {
   "cell_type": "markdown",
   "id": "cf95a46e",
   "metadata": {},
   "source": [
    "---\n",
    "title: cheg304 hw7 q3\n",
    "author: author\n",
    "date: today\n",
    "format:\n",
    "    html:\n",
    "        self-contained: true\n",
    "---"
   ]
  },
  {
   "cell_type": "markdown",
   "id": "323f0070",
   "metadata": {},
   "source": [
    "### part 1\n",
    "here our hypotheses are the following\n",
    "\n",
    "- null: proportion of UD BChE grads who experienced a year of unemployment is the same or greater than the propotion for all BChE grads\n",
    "- alternative: proportion of UD BChE grads who experienced a year of unemployment is lower than the propotion for all BChE grads\n",
    "\n",
    "in math, where $\\pi$ is the proportion of UD BChE graduates and $P$ is the proportion of all such graduates \n",
    "\n",
    "$$\n",
    "H_0: \\ \\pi \\geq P\n",
    "$$\n",
    "\n",
    "$$\n",
    "H_a: \\ \\pi < P\n",
    "$$\n",
    "\n",
    "### part 2\n",
    "\n",
    "we need to check if we can use our z distribution using the rule of thumb from the textbook"
   ]
  },
  {
   "cell_type": "code",
   "execution_count": 35,
   "id": "9e5194a9",
   "metadata": {},
   "outputs": [
    {
     "name": "stdout",
     "output_type": "stream",
     "text": [
      "I_0 interval: [0.044 0.26 ]\n"
     ]
    }
   ],
   "source": [
    "import numpy as np\n",
    "p0 = 0.152\n",
    "n = 100\n",
    "I0 = (p0 - 3 * np.sqrt(p0 * (1 - p0) / n), p0 + 3 * np.sqrt(p0 * (1 - p0) / n))\n",
    "print(f'I_0 interval: {np.round(I0,3)}')"
   ]
  },
  {
   "cell_type": "markdown",
   "id": "daec21c2",
   "metadata": {},
   "source": [
    "now that the interval does not contain 0 or 1, we can use the z distribution using the standard deviation of the binomial distribution\n",
    "\n",
    "$$\n",
    "z = \\frac{\\pi - P}{\\sqrt{\\frac{P(1-P)}{n}}}\n",
    "$$"
   ]
  },
  {
   "cell_type": "code",
   "execution_count": 30,
   "id": "1b557b79",
   "metadata": {},
   "outputs": [
    {
     "name": "stdout",
     "output_type": "stream",
     "text": [
      "z: -1.727\n"
     ]
    }
   ],
   "source": [
    "z = (0.09 - p0) / (np.sqrt(p0 * (1 - p0))/10)\n",
    "print(f'z: {z:.3f}')"
   ]
  },
  {
   "cell_type": "markdown",
   "id": "bb9eded0",
   "metadata": {},
   "source": [
    "now we can calculate the p value "
   ]
  },
  {
   "cell_type": "code",
   "execution_count": 31,
   "id": "8dd36706",
   "metadata": {},
   "outputs": [
    {
     "name": "stdout",
     "output_type": "stream",
     "text": [
      "p: 0.042\n"
     ]
    }
   ],
   "source": [
    "from scipy.stats import norm\n",
    "p = norm.cdf(z)\n",
    "print(f'p: {p:.3f}')"
   ]
  },
  {
   "cell_type": "markdown",
   "id": "e340586a",
   "metadata": {},
   "source": [
    "### part 3\n",
    "\n",
    "we reject the null because $p < \\alpha$. \n",
    "\n",
    "### part 4\n",
    "\n",
    "we reject the null and conclude the proportion of UD BChE graduates experiencing 1 year of unemployment is less than the proportion of all BS degree holders in all engineering disciplines across the country. we're fairing better! (because unemployment of recent graduates is a bad thing)"
   ]
  },
  {
   "cell_type": "code",
   "execution_count": 32,
   "id": "42e3f003",
   "metadata": {},
   "outputs": [],
   "source": [
    "# filler"
   ]
  }
 ],
 "metadata": {
  "kernelspec": {
   "display_name": "base",
   "language": "python",
   "name": "python3"
  },
  "language_info": {
   "codemirror_mode": {
    "name": "ipython",
    "version": 3
   },
   "file_extension": ".py",
   "mimetype": "text/x-python",
   "name": "python",
   "nbconvert_exporter": "python",
   "pygments_lexer": "ipython3",
   "version": "3.11.5"
  }
 },
 "nbformat": 4,
 "nbformat_minor": 5
}
