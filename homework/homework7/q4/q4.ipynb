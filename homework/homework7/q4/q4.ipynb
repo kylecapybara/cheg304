{
 "cells": [
  {
   "cell_type": "markdown",
   "id": "cf95a46e",
   "metadata": {},
   "source": [
    "---\n",
    "title: cheg304 hw7 q4\n",
    "author: author\n",
    "date: today\n",
    "format:\n",
    "    html:\n",
    "        self-contained: true\n",
    "---"
   ]
  },
  {
   "cell_type": "markdown",
   "id": "64296d9b",
   "metadata": {},
   "source": [
    "# a\n",
    "\n",
    "### part 1\n",
    "\n",
    "here our hypotheses are the following\n",
    "\n",
    "- null: the standard deviation is less than 20 seconds \n",
    "- alternative:  the standard deviation is greater than 20 seconds \n",
    "\n",
    "in math, where\n",
    "\n",
    "$$\n",
    "H_0: \\ \\sigma \\leq 20\\,\\text{s}\n",
    "$$\n",
    "\n",
    "$$\n",
    "H_a: \\ \\sigma > 20\\,\\text{s}\n",
    "$$\n",
    "\n",
    "### part 2\n",
    "\n",
    "to do anything here we first need to assume that the underlying distribution is normal so that $C$ will follow the $\\chi^2$ distribution. computing the sample mean and standard deviation...\n"
   ]
  },
  {
   "cell_type": "code",
   "execution_count": 36,
   "id": "dcf1cf5d",
   "metadata": {},
   "outputs": [
    {
     "name": "stdout",
     "output_type": "stream",
     "text": [
      "sample mean: 268.09\n",
      "sample std: 41.48\n"
     ]
    }
   ],
   "source": [
    "import numpy as np\n",
    "from scipy.stats import chi2, f\n",
    "\n",
    "data = \"286.1 325.0 202.2 295.9 279.6 230.8 257.0\"\n",
    "data = data.split(' ')\n",
    "data = np.array(data).astype(float)\n",
    "\n",
    "print(f'sample mean: {data.mean():.2f}')\n",
    "print(f'sample std: {data.std(ddof=1):.2f}')"
   ]
  },
  {
   "cell_type": "markdown",
   "id": "16a72bbe",
   "metadata": {},
   "source": [
    "now we can compute our $C$\n",
    "\n",
    "$$\n",
    "C = \\frac{(n-1) s^2}{\\sigma_0^2}\n",
    "$$"
   ]
  },
  {
   "cell_type": "code",
   "execution_count": 37,
   "id": "85cdb13d",
   "metadata": {},
   "outputs": [
    {
     "name": "stdout",
     "output_type": "stream",
     "text": [
      "c: 25.81\n"
     ]
    }
   ],
   "source": [
    "c = (len(data) - 1) * (data.var(ddof=1)) / (20**2)\n",
    "print(f'c: {c:.2f}')"
   ]
  },
  {
   "cell_type": "markdown",
   "id": "e96eac2e",
   "metadata": {},
   "source": [
    "now we can compute the p value using $\\nu = n - 1$"
   ]
  },
  {
   "cell_type": "code",
   "execution_count": 38,
   "id": "5d0d4346",
   "metadata": {},
   "outputs": [
    {
     "name": "stdout",
     "output_type": "stream",
     "text": [
      "p: 0.00024\n"
     ]
    }
   ],
   "source": [
    "p = 1 - chi2.cdf(c, df = len(data) - 1)\n",
    "print(f'p: {p:.5f}')"
   ]
  },
  {
   "cell_type": "markdown",
   "id": "0667c6d9",
   "metadata": {},
   "source": [
    "### part 3\n",
    "\n",
    "we reject the null since $p < \\alpha$\n",
    "\n",
    "### part 4\n",
    "\n",
    "we reject the null and conclude that the population standard deviation is greater than the 20 seconds requirement. this means the tablets are not working properly and do not satisfy the safety criteria. "
   ]
  },
  {
   "cell_type": "markdown",
   "id": "32da9f76",
   "metadata": {},
   "source": [
    "# b\n",
    "\n",
    "# a\n",
    "\n",
    "### part 1\n",
    "\n",
    "here our hypotheses are the following\n",
    "\n",
    "- null: the standard deviation of the new set is the same or higher as the old set\n",
    "- alternative:  the standard deviation of the new set is lower than the old set \n",
    "\n",
    "in math, where\n",
    "\n",
    "$$\n",
    "H_0: \\ \\sigma_2 \\geq \\sigma_1\n",
    "$$\n",
    "\n",
    "$$\n",
    "H_a: \\  \\sigma_2 < \\sigma_1\n",
    "$$\n",
    "\n",
    "### part 2\n",
    "\n",
    "we want to compute our F statistic, so we need the standard deviation of our new data too"
   ]
  },
  {
   "cell_type": "code",
   "execution_count": 39,
   "id": "2035951f",
   "metadata": {},
   "outputs": [
    {
     "name": "stdout",
     "output_type": "stream",
     "text": [
      "sample 2 mean: 269.39\n",
      "sample 2 std: 12.18\n"
     ]
    }
   ],
   "source": [
    "newdata = \"268.8 260.0 273.5 253.9 278.5 289.4 261.6\"\n",
    "newdata = newdata.split(' ')\n",
    "newdata = np.array(newdata).astype(float)\n",
    "\n",
    "print(f'sample 2 mean: {newdata.mean():.2f}')\n",
    "print(f'sample 2 std: {newdata.std(ddof=1):.2f}')"
   ]
  },
  {
   "cell_type": "markdown",
   "id": "aefa73e6",
   "metadata": {},
   "source": [
    "now computing F, \n",
    "\n",
    "$$\n",
    "F = \\frac{\\sigma_1^2}{\\sigma_2^2}\n",
    "$$"
   ]
  },
  {
   "cell_type": "code",
   "execution_count": 40,
   "id": "885a9bb8",
   "metadata": {},
   "outputs": [
    {
     "name": "stdout",
     "output_type": "stream",
     "text": [
      "F statistic: 11.61\n"
     ]
    }
   ],
   "source": [
    "F = data.var(ddof=1) / newdata.var(ddof=1)\n",
    "print(f'F statistic: {F:.2f}')"
   ]
  },
  {
   "cell_type": "markdown",
   "id": "d2ae9aae",
   "metadata": {},
   "source": [
    "and now the probability of getting an F that high or higher"
   ]
  },
  {
   "cell_type": "code",
   "execution_count": 41,
   "id": "d79a71bf",
   "metadata": {},
   "outputs": [
    {
     "name": "stdout",
     "output_type": "stream",
     "text": [
      "p: 0.0044\n"
     ]
    }
   ],
   "source": [
    "p = 1 - f.cdf(F, len(data) - 1, len(newdata) - 1)\n",
    "print(f'p: {p:.4f}')"
   ]
  },
  {
   "cell_type": "markdown",
   "id": "c740a47e",
   "metadata": {},
   "source": [
    "### part 3\n",
    "\n",
    "we reject the null hypothesis since $p<\\alpha$\n",
    "\n",
    "### part 4\n",
    "\n",
    "we reject the null and conclude that the new sample's standard deviation is significantly smaller than the original sample. "
   ]
  },
  {
   "cell_type": "code",
   "execution_count": 42,
   "id": "9b19182c",
   "metadata": {},
   "outputs": [],
   "source": [
    "# filler"
   ]
  }
 ],
 "metadata": {
  "kernelspec": {
   "display_name": "base",
   "language": "python",
   "name": "python3"
  },
  "language_info": {
   "codemirror_mode": {
    "name": "ipython",
    "version": 3
   },
   "file_extension": ".py",
   "mimetype": "text/x-python",
   "name": "python",
   "nbconvert_exporter": "python",
   "pygments_lexer": "ipython3",
   "version": "3.11.5"
  }
 },
 "nbformat": 4,
 "nbformat_minor": 5
}
