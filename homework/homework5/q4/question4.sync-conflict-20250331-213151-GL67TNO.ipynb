{
 "cells": [
  {
   "cell_type": "markdown",
   "metadata": {},
   "source": [
    "---\n",
    "title: cheg304 hw5 question 4\n",
    "author: k.wodehouse\n",
    "date: today\n",
    "format: \n",
    "    html:\n",
    "        self-contained: true\n",
    "---"
   ]
  },
  {
   "cell_type": "markdown",
   "metadata": {},
   "source": [
    "we essentially want to relate our critical t at 5% to our sample mean. let's start with the definition of our t-statistic\n",
    "\n",
    "$$\n",
    "t = \\frac{\\bar{x}-\\mu}{S/\\sqrt{ N }}\n",
    "$$\n",
    "\n",
    "which rearranges to\n",
    "\n",
    "$$\n",
    "\\bar{x} = \\frac{tS}{\\sqrt{ N }} + \\mu\n",
    "$$\n",
    "\n",
    "now we can get this t value for $\\nu = 39$ and $\\alpha = 0.05$ even though we haven't mentioned alpha... it's alpha. let's calculate"
   ]
  },
  {
   "cell_type": "code",
   "execution_count": 34,
   "metadata": {},
   "outputs": [
    {
     "name": "stdout",
     "output_type": "stream",
     "text": [
      "t value: -1.6849\n",
      "xbar: 5.987\n"
     ]
    }
   ],
   "source": [
    "from scipy.stats import t, chi2\n",
    "import numpy as np\n",
    "\n",
    "tval = t.ppf(0.05, 39)\n",
    "print(f't value: {tval:.4f}')\n",
    "\n",
    "xbar = (tval * (0.05) / np.sqrt(40)) + 6.00\n",
    "print(f'xbar: {xbar:.3f}')"
   ]
  },
  {
   "cell_type": "markdown",
   "metadata": {},
   "source": [
    "and i kept the 4 s.f. to make enszer happy.\n",
    "\n",
    "(b)\n",
    "\n",
    "for this one we need to transform our standard deviation into C, which will follow the chi-squared distribution. we need to assume the underlying distribution is normal.\n",
    "\n",
    "$$\n",
    "C = \\frac{(n-1)S^{2}}{\\sigma^{2}}\n",
    "$$\n",
    "\n",
    "$$\n",
    "S = \\sqrt{\\frac{C\\sigma^{2}}{n-1}}\n",
    "$$\n",
    "\n",
    "now we just find our 2.5% $\\chi^2$ statistic and slap it in there for our final result"
   ]
  },
  {
   "cell_type": "code",
   "execution_count": 35,
   "metadata": {},
   "outputs": [
    {
     "name": "stdout",
     "output_type": "stream",
     "text": [
      "critical C: 32.8523\n",
      "critical S: 0.0657\n"
     ]
    }
   ],
   "source": [
    "C = chi2.ppf(1-0.025,19)\n",
    "print(f'critical C: {C:.4f}')\n",
    "S = np.sqrt((C * (0.05**2)) / (19) )\n",
    "print(f'critical S: {S:.4f}')"
   ]
  }
 ],
 "metadata": {
  "kernelspec": {
   "display_name": "base",
   "language": "python",
   "name": "python3"
  },
  "language_info": {
   "codemirror_mode": {
    "name": "ipython",
    "version": 3
   },
   "file_extension": ".py",
   "mimetype": "text/x-python",
   "name": "python",
   "nbconvert_exporter": "python",
   "pygments_lexer": "ipython3",
   "version": "3.12.3"
  }
 },
 "nbformat": 4,
 "nbformat_minor": 2
}
