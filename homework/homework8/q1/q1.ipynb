{
 "cells": [
  {
   "cell_type": "markdown",
   "id": "f0b8f3d1",
   "metadata": {},
   "source": [
    "---\n",
    "title: cheg304 hw8 q1\n",
    "author: author\n",
    "date: today\n",
    "format:\n",
    "    html:\n",
    "        self-contained: true\n",
    "---"
   ]
  },
  {
   "cell_type": "markdown",
   "id": "cbe40871",
   "metadata": {},
   "source": [
    "# a"
   ]
  },
  {
   "cell_type": "code",
   "execution_count": null,
   "id": "b822491a",
   "metadata": {},
   "outputs": [
    {
     "data": {
      "text/html": [
       "<div>\n",
       "<style scoped>\n",
       "    .dataframe tbody tr th:only-of-type {\n",
       "        vertical-align: middle;\n",
       "    }\n",
       "\n",
       "    .dataframe tbody tr th {\n",
       "        vertical-align: top;\n",
       "    }\n",
       "\n",
       "    .dataframe thead th {\n",
       "        text-align: right;\n",
       "    }\n",
       "</style>\n",
       "<table border=\"1\" class=\"dataframe\">\n",
       "  <thead>\n",
       "    <tr style=\"text-align: right;\">\n",
       "      <th></th>\n",
       "      <th>k</th>\n",
       "      <th>T</th>\n",
       "    </tr>\n",
       "  </thead>\n",
       "  <tbody>\n",
       "    <tr>\n",
       "      <th>0</th>\n",
       "      <td>93.228</td>\n",
       "      <td>100</td>\n",
       "    </tr>\n",
       "    <tr>\n",
       "      <th>1</th>\n",
       "      <td>92.563</td>\n",
       "      <td>150</td>\n",
       "    </tr>\n",
       "    <tr>\n",
       "      <th>2</th>\n",
       "      <td>99.409</td>\n",
       "      <td>200</td>\n",
       "    </tr>\n",
       "    <tr>\n",
       "      <th>3</th>\n",
       "      <td>101.590</td>\n",
       "      <td>250</td>\n",
       "    </tr>\n",
       "    <tr>\n",
       "      <th>4</th>\n",
       "      <td>111.535</td>\n",
       "      <td>300</td>\n",
       "    </tr>\n",
       "    <tr>\n",
       "      <th>5</th>\n",
       "      <td>115.874</td>\n",
       "      <td>350</td>\n",
       "    </tr>\n",
       "    <tr>\n",
       "      <th>6</th>\n",
       "      <td>119.390</td>\n",
       "      <td>400</td>\n",
       "    </tr>\n",
       "    <tr>\n",
       "      <th>7</th>\n",
       "      <td>126.615</td>\n",
       "      <td>450</td>\n",
       "    </tr>\n",
       "  </tbody>\n",
       "</table>\n",
       "</div>"
      ],
      "text/plain": [
       "         k    T\n",
       "0   93.228  100\n",
       "1   92.563  150\n",
       "2   99.409  200\n",
       "3  101.590  250\n",
       "4  111.535  300\n",
       "5  115.874  350\n",
       "6  119.390  400\n",
       "7  126.615  450"
      ]
     },
     "execution_count": 43,
     "metadata": {},
     "output_type": "execute_result"
    }
   ],
   "source": [
    "import numpy as np\n",
    "import pandas as pd\n",
    "from scipy.stats import t\n",
    "\n",
    "df = pd.read_csv('dat.csv', sep=',')\n",
    "df.style.format()"
   ]
  },
  {
   "cell_type": "markdown",
   "id": "ca61b5ec",
   "metadata": {},
   "source": [
    "#### step 1\n",
    "\n",
    "$$\n",
    "H_0: \\quad \\rho = 0\n",
    "$$\n",
    "\n",
    "$$\n",
    "H_a: \\quad \\rho \\neq 0\n",
    "$$\n",
    "\n",
    "#### step 2\n",
    "\n",
    "calculating r"
   ]
  },
  {
   "cell_type": "code",
   "execution_count": 44,
   "id": "73046dcd",
   "metadata": {},
   "outputs": [
    {
     "name": "stdout",
     "output_type": "stream",
     "text": [
      "r: 0.9847\n",
      "t: 13.82\n",
      "p: 1.23e-06\n"
     ]
    }
   ],
   "source": [
    "x = df['T']\n",
    "y = df['k']\n",
    "n = len(df['T'])\n",
    "\n",
    "xbar,ybar = x.mean(), y.mean()\n",
    "numerator = ((x-xbar) * (y-ybar)).sum()\n",
    "denominator = np.sqrt(((x-xbar)**2).sum())  *  np.sqrt(((y-ybar)**2).sum())\n",
    "r = numerator / denominator\n",
    "print(f'r: {r:.4f}')\n",
    "\n",
    "tvalue = r / np.sqrt((1-r**2)/(n-2))\n",
    "print(f't: {tvalue:.2f}')\n",
    "\n",
    "p = 1 - t.cdf(tvalue, n-1)\n",
    "print(f'p: {p:.2e}')"
   ]
  },
  {
   "cell_type": "markdown",
   "id": "9581584f",
   "metadata": {},
   "source": [
    "#### step 3\n",
    "\n",
    "i will reject the null since the calcualted p value is less than $\\alpha=0.05$"
   ]
  },
  {
   "cell_type": "markdown",
   "id": "7d10f602",
   "metadata": {},
   "source": [
    "#### step 4\n",
    "\n",
    "we reject the null and conclude the true population correlation is not 0. in english this means that there is a statistically significant correlation in our data."
   ]
  },
  {
   "cell_type": "markdown",
   "id": "e39456e4",
   "metadata": {},
   "source": [
    "# b"
   ]
  },
  {
   "cell_type": "markdown",
   "id": "1dee3ae6",
   "metadata": {},
   "source": [
    "the y vector is"
   ]
  },
  {
   "cell_type": "code",
   "execution_count": 46,
   "id": "6ae7b67a",
   "metadata": {},
   "outputs": [
    {
     "data": {
      "text/plain": [
       "array([[ 93.228],\n",
       "       [ 92.563],\n",
       "       [ 99.409],\n",
       "       [101.59 ],\n",
       "       [111.535],\n",
       "       [115.874],\n",
       "       [119.39 ],\n",
       "       [126.615]])"
      ]
     },
     "execution_count": 46,
     "metadata": {},
     "output_type": "execute_result"
    }
   ],
   "source": [
    "np.array(df[['k']])"
   ]
  },
  {
   "cell_type": "markdown",
   "id": "896bc25b",
   "metadata": {},
   "source": [
    "and the X vector is"
   ]
  },
  {
   "cell_type": "code",
   "execution_count": 47,
   "id": "d2a6cb75",
   "metadata": {},
   "outputs": [
    {
     "data": {
      "text/plain": [
       "array([[  1, 100],\n",
       "       [  1, 150],\n",
       "       [  1, 200],\n",
       "       [  1, 250],\n",
       "       [  1, 300],\n",
       "       [  1, 350],\n",
       "       [  1, 400],\n",
       "       [  1, 450]])"
      ]
     },
     "execution_count": 47,
     "metadata": {},
     "output_type": "execute_result"
    }
   ],
   "source": [
    "df['intercept'] = 1\n",
    "np.array(df[['intercept', 'T']])"
   ]
  },
  {
   "cell_type": "markdown",
   "id": "6a551057",
   "metadata": {},
   "source": [
    "the first column will fit the intercept and the second will fit the b*T term."
   ]
  },
  {
   "cell_type": "code",
   "execution_count": null,
   "id": "d175c91e",
   "metadata": {},
   "outputs": [],
   "source": [
    "# filler"
   ]
  }
 ],
 "metadata": {
  "kernelspec": {
   "display_name": "base",
   "language": "python",
   "name": "python3"
  },
  "language_info": {
   "codemirror_mode": {
    "name": "ipython",
    "version": 3
   },
   "file_extension": ".py",
   "mimetype": "text/x-python",
   "name": "python",
   "nbconvert_exporter": "python",
   "pygments_lexer": "ipython3",
   "version": "3.11.8"
  }
 },
 "nbformat": 4,
 "nbformat_minor": 5
}
