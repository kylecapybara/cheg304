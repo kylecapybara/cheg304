{
 "cells": [
  {
   "cell_type": "markdown",
   "id": "8283560f",
   "metadata": {},
   "source": [
    "---\n",
    "title: cheg304 hw8 q3\n",
    "author: author\n",
    "date: today\n",
    "format:\n",
    "    html:\n",
    "        self-contained: true\n",
    "---"
   ]
  },
  {
   "cell_type": "markdown",
   "id": "801c1d87",
   "metadata": {},
   "source": [
    "### step 1\n",
    "\n",
    "$$\n",
    "H_0: \\quad \\mu_1 = \\mu_2 = \\mu_3\n",
    "$$\n",
    "\n",
    "$$\n",
    "H_a: \\quad \\text{at least one of them isn't equal}\n",
    "$$\n",
    "\n",
    "### step 2\n",
    "\n",
    "using a computer program (python and minitab) to calculate the p-values"
   ]
  },
  {
   "cell_type": "code",
   "execution_count": 46,
   "id": "eccf63b7",
   "metadata": {},
   "outputs": [
    {
     "data": {
      "text/html": [
       "<div>\n",
       "<style scoped>\n",
       "    .dataframe tbody tr th:only-of-type {\n",
       "        vertical-align: middle;\n",
       "    }\n",
       "\n",
       "    .dataframe tbody tr th {\n",
       "        vertical-align: top;\n",
       "    }\n",
       "\n",
       "    .dataframe thead th {\n",
       "        text-align: right;\n",
       "    }\n",
       "</style>\n",
       "<table border=\"1\" class=\"dataframe\">\n",
       "  <thead>\n",
       "    <tr style=\"text-align: right;\">\n",
       "      <th></th>\n",
       "      <th>1</th>\n",
       "      <th>2</th>\n",
       "      <th>3</th>\n",
       "      <th>4</th>\n",
       "      <th>5</th>\n",
       "    </tr>\n",
       "  </thead>\n",
       "  <tbody>\n",
       "    <tr>\n",
       "      <th>0</th>\n",
       "      <td>244</td>\n",
       "      <td>235</td>\n",
       "      <td>232</td>\n",
       "      <td>242</td>\n",
       "      <td>225</td>\n",
       "    </tr>\n",
       "    <tr>\n",
       "      <th>1</th>\n",
       "      <td>252</td>\n",
       "      <td>272</td>\n",
       "      <td>250</td>\n",
       "      <td>238</td>\n",
       "      <td>256</td>\n",
       "    </tr>\n",
       "    <tr>\n",
       "      <th>2</th>\n",
       "      <td>220</td>\n",
       "      <td>251</td>\n",
       "      <td>226</td>\n",
       "      <td>246</td>\n",
       "      <td>260</td>\n",
       "    </tr>\n",
       "  </tbody>\n",
       "</table>\n",
       "</div>"
      ],
      "text/plain": [
       "     1    2    3    4    5\n",
       "0  244  235  232  242  225\n",
       "1  252  272  250  238  256\n",
       "2  220  251  226  246  260"
      ]
     },
     "execution_count": 46,
     "metadata": {},
     "output_type": "execute_result"
    }
   ],
   "source": [
    "import numpy as np\n",
    "import pandas as pd\n",
    "from scipy.stats import f_oneway\n",
    "\n",
    "df = pd.read_csv('data.txt', sep=' ')\n",
    "df = df.drop(columns='brand')\n",
    "df"
   ]
  },
  {
   "cell_type": "code",
   "execution_count": null,
   "id": "d16c69eb",
   "metadata": {},
   "outputs": [
    {
     "name": "stdout",
     "output_type": "stream",
     "text": [
      "F-statistic: 2.6009\n",
      "p-value: 0.1152\n"
     ]
    }
   ],
   "source": [
    "F = f_oneway(df.iloc[0], df.iloc[1], df.iloc[2])\n",
    "print(f\"F-statistic: {F.statistic:.4f}\")\n",
    "print(f\"p-value: {F.pvalue:.4f}\")"
   ]
  },
  {
   "cell_type": "markdown",
   "id": "e0681eae",
   "metadata": {},
   "source": [
    "or with minitab\n",
    "\n",
    "<img src=\"method.png\" alt=\"anova table\" width=\"600\"/>\n",
    "\n",
    "<img src=\"anova.png\" alt=\"anova table\" width=\"600\"/>\n",
    "\n",
    "(it would be awkward if they disagreed)\n"
   ]
  },
  {
   "cell_type": "markdown",
   "id": "ee6709f3",
   "metadata": {},
   "source": [
    "### step 3\n",
    "\n",
    "decide to fail to reject null since $p > \\alpha = 0.05$"
   ]
  },
  {
   "cell_type": "markdown",
   "id": "1a63a519",
   "metadata": {},
   "source": [
    "### step 4\n",
    "\n",
    "fail to reject the null and conclude the means could plausibly all be equal."
   ]
  },
  {
   "cell_type": "code",
   "execution_count": 48,
   "id": "54f1919e",
   "metadata": {},
   "outputs": [],
   "source": [
    "# filler"
   ]
  }
 ],
 "metadata": {
  "kernelspec": {
   "display_name": "base",
   "language": "python",
   "name": "python3"
  },
  "language_info": {
   "codemirror_mode": {
    "name": "ipython",
    "version": 3
   },
   "file_extension": ".py",
   "mimetype": "text/x-python",
   "name": "python",
   "nbconvert_exporter": "python",
   "pygments_lexer": "ipython3",
   "version": "3.11.8"
  }
 },
 "nbformat": 4,
 "nbformat_minor": 5
}
