{
 "cells": [
  {
   "cell_type": "markdown",
   "metadata": {},
   "source": [
    "---\n",
    "author: anon for grading\n",
    "date: today\n",
    "format:\n",
    "    html:\n",
    "        self-contained: true\n",
    "---"
   ]
  },
  {
   "cell_type": "markdown",
   "metadata": {},
   "source": [
    "starting by making the drawing of the binary tree"
   ]
  },
  {
   "cell_type": "code",
   "execution_count": 23,
   "metadata": {},
   "outputs": [],
   "source": [
    "import matplotlib as mpl\n",
    "mpl.use('agg')\n",
    "import matplotlib.pyplot as plt\n",
    "\n",
    "def build_full_binary_tree(root, depth, x=0, y=0, dx=1):\n",
    "    nodes = {}\n",
    "    edges = []\n",
    "    \n",
    "    def rec(node, depth, x, y, dx):\n",
    "        nodes[node] = (x, y)\n",
    "        if depth > 0:\n",
    "            left = node + \"L\"\n",
    "            right = node + \"R\"\n",
    "            edges.append((node, left))\n",
    "            edges.append((node, right))\n",
    "            rec(left, depth-1, x - dx, y - 1, dx/2)\n",
    "            rec(right, depth-1, x + dx, y - 1, dx/2)\n",
    "    \n",
    "    rec(root, depth, x, y, dx)\n",
    "    return nodes, edges\n",
    "\n",
    "nodes, edges = build_full_binary_tree(\"root\", 5, 0, 0, 3)\n",
    "\n",
    "fig, ax = plt.subplots(figsize=(8,5), layout='constrained')\n",
    "\n",
    "for start, end in edges:\n",
    "    x_start, y_start = nodes[start]\n",
    "    x_end, y_end = nodes[end]\n",
    "\n",
    "    color = 'black' if x_end < x_start else 'red'\n",
    "\n",
    "    ax.plot([x_start, x_end], [y_start, y_end], c=color, lw=1)\n",
    "    ax.annotate(\"\",\n",
    "                xy=(x_end, y_end), xycoords='data',\n",
    "                xytext=(x_start, y_start), textcoords='data',\n",
    "                arrowprops=dict(arrowstyle=\"->\", color=color, lw=1),\n",
    "                )\n",
    "    \n",
    "\n",
    "for label, (x, y) in nodes.items():\n",
    "    ax.plot(x, y, 'o', color=plt.cm.hsv((y - min(pt[1] for pt in nodes.values())) / (max(pt[1] for pt in nodes.values()) - min(pt[1] for pt in nodes.values())) - 0.05), zorder=10)\n",
    "    ax.text(x, y + 0.1, '', fontsize=8, ha='center')\n",
    "\n",
    "ax.set_xlim(-6, 6)\n",
    "ax.set_ylim(min(y for (_, y) in nodes.values()) - 1, 1)\n",
    "ax.set_aspect('equal')\n",
    "ax.axis('off')\n",
    "ax.legend(['Around', 'Through'])\n",
    "\n",
    "plt.savefig('event_tree.pdf')"
   ]
  },
  {
   "cell_type": "markdown",
   "metadata": {},
   "source": [
    "now plotting our distributions"
   ]
  },
  {
   "cell_type": "code",
   "execution_count": 24,
   "metadata": {},
   "outputs": [],
   "source": [
    "import numpy as np\n",
    "\n",
    "number_around = np.arange(0,6,1)\n",
    "frequency = np.array([1,5,10,10,5,1])\n",
    "rel_frequency = frequency / frequency.sum()\n",
    "\n",
    "fig, (ax, ax2) = plt.subplots(1,2,figsize=(10,6), dpi=500, subplot_kw={'xlabel':'X (amount of times it went around)'})\n",
    "\n",
    "ax.bar(number_around, rel_frequency, width=1, edgecolor='black', facecolor='pink')\n",
    "ax2.bar(number_around, rel_frequency.cumsum(),  width=1, edgecolor='black', facecolor='purple', alpha=0.6)\n",
    "\n",
    "ax.set(title='PDF for equal probability', ylabel='probability')\n",
    "ax2.set(title='CDF for equal probability', ylabel='cumulative probability')\n",
    "plt.savefig('first plots.pdf')"
   ]
  },
  {
   "cell_type": "code",
   "execution_count": 26,
   "metadata": {},
   "outputs": [],
   "source": [
    "number_around = np.arange(0,6,1)\n",
    "frequency = np.array([1,5,10,10,5,1])\n",
    "path_probability = (0.7 ** number_around) * (0.3**(5-number_around))\n",
    "probability = frequency * path_probability\n",
    "\n",
    "fig, (ax, ax2) = plt.subplots(1,2,figsize=(10,6), dpi=500, subplot_kw={'xlabel':'X (amount of times it went around)'})\n",
    "\n",
    "ax.bar(number_around, probability, width=1, edgecolor='black', facecolor='grey')\n",
    "ax2.bar(number_around, probability.cumsum(),  width=1, edgecolor='black', facecolor='lightblue', alpha=0.6)\n",
    "\n",
    "ax.set(title='PDF for 70-30 probability', ylabel='probability')\n",
    "ax2.set(title='CDF for 70-30 probability', ylabel='cumulative probability')\n",
    "plt.savefig('second plots.pdf')"
   ]
  },
  {
   "cell_type": "code",
   "execution_count": 28,
   "metadata": {},
   "outputs": [
    {
     "data": {
      "text/plain": [
       "0.02171760000000007"
      ]
     },
     "execution_count": 28,
     "metadata": {},
     "output_type": "execute_result"
    }
   ],
   "source": [
    "x = 0.9 - 0.2*(0.9**5)\n",
    "1.2 * (0.8 - x)"
   ]
  },
  {
   "cell_type": "code",
   "execution_count": null,
   "metadata": {},
   "outputs": [],
   "source": []
  }
 ],
 "metadata": {
  "kernelspec": {
   "display_name": "base",
   "language": "python",
   "name": "python3"
  },
  "language_info": {
   "codemirror_mode": {
    "name": "ipython",
    "version": 3
   },
   "file_extension": ".py",
   "mimetype": "text/x-python",
   "name": "python",
   "nbconvert_exporter": "python",
   "pygments_lexer": "ipython3",
   "version": "3.11.5"
  }
 },
 "nbformat": 4,
 "nbformat_minor": 2
}
