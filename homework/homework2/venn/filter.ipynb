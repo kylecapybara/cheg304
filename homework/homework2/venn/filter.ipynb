{
 "cells": [
  {
   "cell_type": "code",
   "execution_count": null,
   "metadata": {},
   "outputs": [],
   "source": [
    "import re\n",
    "import csv\n",
    "\n",
    "input_file = '/Users/kylewodehouse/Documents/CHEG304/homework/homework2/venn/multicultural.txt'\n",
    "output_file = 'multicultural.csv'\n",
    "\n",
    "# This regex matches lines like:\n",
    "# AFRA 110 - Introduction to African American Studies Credit(s): 3\n",
    "pattern = re.compile(r'^([A-Z]{2,5}\\s*\\d{1,4})\\s*-\\s*(.*?)\\s+Credit\\(s\\):\\s*(.+)$')\n",
    "\n",
    "\n",
    "with open(input_file, 'r') as infile, open(output_file, 'w', newline='') as outfile:\n",
    "    writer = csv.writer(outfile)\n",
    "    writer.writerow(['course code', 'course name', 'credits', 'upper level'])\n",
    "    \n",
    "    for line in infile:\n",
    "        line = line.strip()\n",
    "        # Skip empty lines and lines that likely are department headers (without a dash)\n",
    "        if not line or '-' not in line:\n",
    "            continue\n",
    "        \n",
    "        match = pattern.match(line)\n",
    "        if match:\n",
    "            course_code, course_name, credits = match.groups()\n",
    "            writer.writerow([course_code.strip(), course_name.strip(), credits.strip()])"
   ]
  },
  {
   "cell_type": "code",
   "execution_count": null,
   "metadata": {},
   "outputs": [],
   "source": []
  }
 ],
 "metadata": {
  "kernelspec": {
   "display_name": "base",
   "language": "python",
   "name": "python3"
  },
  "language_info": {
   "codemirror_mode": {
    "name": "ipython",
    "version": 3
   },
   "file_extension": ".py",
   "mimetype": "text/x-python",
   "name": "python",
   "nbconvert_exporter": "python",
   "pygments_lexer": "ipython3",
   "version": "3.11.5"
  }
 },
 "nbformat": 4,
 "nbformat_minor": 2
}
